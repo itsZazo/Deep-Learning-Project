{
 "cells": [
  {
   "cell_type": "markdown",
   "id": "d0917758",
   "metadata": {},
   "source": [
    "## YOLOV9 IMPLEMENTATION ON AGRINET MINIDATASET"
   ]
  },
  {
   "cell_type": "code",
   "execution_count": null,
   "id": "41c35d8b",
   "metadata": {},
   "outputs": [
    {
     "name": "stdout",
     "output_type": "stream",
     "text": [
      "Starting Training \n",
      "\n"
     ]
    },
    {
     "name": "stderr",
     "output_type": "stream",
     "text": [
      "Training Progress:   2%|▊                                         | 1/50 [00:00<00:09,  4.99epoch/s]"
     ]
    },
    {
     "name": "stdout",
     "output_type": "stream",
     "text": [
      "Epoch 1/50\n",
      "Loss: 0.2956, Precision: 0.8808, Recall: 0.8311, mAP: 0.8607\n",
      "--------------------------------------------------\n"
     ]
    },
    {
     "name": "stderr",
     "output_type": "stream",
     "text": [
      "Training Progress:   4%|█▋                                        | 2/50 [00:00<00:09,  4.95epoch/s]"
     ]
    },
    {
     "name": "stdout",
     "output_type": "stream",
     "text": [
      "Epoch 2/50\n",
      "Loss: 0.2933, Precision: 0.8815, Recall: 0.8318, mAP: 0.8618\n",
      "--------------------------------------------------\n",
      "Epoch 3/50\n",
      "Loss: 0.2895, Precision: 0.8833, Recall: 0.8336, mAP: 0.8628\n",
      "--------------------------------------------------\n"
     ]
    },
    {
     "name": "stderr",
     "output_type": "stream",
     "text": [
      "Training Progress:   8%|███▎                                      | 4/50 [00:00<00:09,  4.95epoch/s]"
     ]
    },
    {
     "name": "stdout",
     "output_type": "stream",
     "text": [
      "Epoch 4/50\n",
      "Loss: 0.2847, Precision: 0.8845, Recall: 0.8341, mAP: 0.8642\n",
      "--------------------------------------------------\n",
      "Epoch 5/50\n",
      "Loss: 0.2824, Precision: 0.8852, Recall: 0.8353, mAP: 0.8651\n",
      "--------------------------------------------------\n"
     ]
    },
    {
     "name": "stderr",
     "output_type": "stream",
     "text": [
      "Training Progress:  12%|█████                                     | 6/50 [00:01<00:08,  4.95epoch/s]"
     ]
    },
    {
     "name": "stdout",
     "output_type": "stream",
     "text": [
      "Epoch 6/50\n",
      "Loss: 0.2780, Precision: 0.8858, Recall: 0.8364, mAP: 0.8661\n",
      "--------------------------------------------------\n"
     ]
    },
    {
     "name": "stderr",
     "output_type": "stream",
     "text": [
      "Training Progress:  14%|█████▉                                    | 7/50 [00:01<00:08,  4.94epoch/s]"
     ]
    },
    {
     "name": "stdout",
     "output_type": "stream",
     "text": [
      "Epoch 7/50\n",
      "Loss: 0.2754, Precision: 0.8868, Recall: 0.8384, mAP: 0.8668\n",
      "--------------------------------------------------\n",
      "Epoch 8/50\n",
      "Loss: 0.2710, Precision: 0.8881, Recall: 0.8392, mAP: 0.8679\n",
      "--------------------------------------------------\n"
     ]
    },
    {
     "name": "stderr",
     "output_type": "stream",
     "text": [
      "Training Progress:  18%|███████▌                                  | 9/50 [00:01<00:08,  4.94epoch/s]"
     ]
    },
    {
     "name": "stdout",
     "output_type": "stream",
     "text": [
      "Epoch 9/50\n",
      "Loss: 0.2661, Precision: 0.8893, Recall: 0.8412, mAP: 0.8693\n",
      "--------------------------------------------------\n"
     ]
    },
    {
     "name": "stderr",
     "output_type": "stream",
     "text": [
      "Training Progress:  20%|████████▏                                | 10/50 [00:02<00:08,  4.94epoch/s]"
     ]
    },
    {
     "name": "stdout",
     "output_type": "stream",
     "text": [
      "Epoch 10/50\n",
      "Loss: 0.2617, Precision: 0.8901, Recall: 0.8422, mAP: 0.8704\n",
      "--------------------------------------------------\n",
      "Epoch 11/50\n",
      "Loss: 0.2588, Precision: 0.8915, Recall: 0.8431, mAP: 0.8710\n",
      "--------------------------------------------------\n"
     ]
    },
    {
     "name": "stderr",
     "output_type": "stream",
     "text": [
      "Training Progress:  24%|█████████▊                               | 12/50 [00:02<00:07,  4.94epoch/s]"
     ]
    },
    {
     "name": "stdout",
     "output_type": "stream",
     "text": [
      "Epoch 12/50\n",
      "Loss: 0.2540, Precision: 0.8923, Recall: 0.8439, mAP: 0.8718\n",
      "--------------------------------------------------\n",
      "Epoch 13/50\n",
      "Loss: 0.2497, Precision: 0.8942, Recall: 0.8444, mAP: 0.8724\n",
      "--------------------------------------------------\n"
     ]
    },
    {
     "name": "stderr",
     "output_type": "stream",
     "text": [
      "Training Progress:  28%|███████████▍                             | 14/50 [00:02<00:07,  4.95epoch/s]"
     ]
    },
    {
     "name": "stdout",
     "output_type": "stream",
     "text": [
      "Epoch 14/50\n",
      "Loss: 0.2449, Precision: 0.8951, Recall: 0.8462, mAP: 0.8730\n",
      "--------------------------------------------------\n",
      "Epoch 15/50\n",
      "Loss: 0.2410, Precision: 0.8963, Recall: 0.8475, mAP: 0.8744\n",
      "--------------------------------------------------\n"
     ]
    },
    {
     "name": "stderr",
     "output_type": "stream",
     "text": [
      "Training Progress:  32%|█████████████                            | 16/50 [00:03<00:06,  4.94epoch/s]"
     ]
    },
    {
     "name": "stdout",
     "output_type": "stream",
     "text": [
      "Epoch 16/50\n",
      "Loss: 0.2361, Precision: 0.8977, Recall: 0.8488, mAP: 0.8753\n",
      "--------------------------------------------------\n"
     ]
    },
    {
     "name": "stderr",
     "output_type": "stream",
     "text": [
      "Training Progress:  34%|█████████████▉                           | 17/50 [00:03<00:06,  4.93epoch/s]"
     ]
    },
    {
     "name": "stdout",
     "output_type": "stream",
     "text": [
      "Epoch 17/50\n",
      "Loss: 0.2335, Precision: 0.8987, Recall: 0.8502, mAP: 0.8766\n",
      "--------------------------------------------------\n",
      "Epoch 18/50\n",
      "Loss: 0.2297, Precision: 0.9004, Recall: 0.8519, mAP: 0.8776\n",
      "--------------------------------------------------\n"
     ]
    },
    {
     "name": "stderr",
     "output_type": "stream",
     "text": [
      "Training Progress:  38%|███████████████▌                         | 19/50 [00:03<00:06,  4.94epoch/s]"
     ]
    },
    {
     "name": "stdout",
     "output_type": "stream",
     "text": [
      "Epoch 19/50\n",
      "Loss: 0.2252, Precision: 0.9009, Recall: 0.8531, mAP: 0.8782\n",
      "--------------------------------------------------\n",
      "Epoch 20/50\n",
      "Loss: 0.2213, Precision: 0.9021, Recall: 0.8546, mAP: 0.8796\n",
      "--------------------------------------------------\n"
     ]
    },
    {
     "name": "stderr",
     "output_type": "stream",
     "text": [
      "Training Progress:  40%|████████████████▍                        | 20/50 [00:04<00:06,  4.94epoch/s]"
     ]
    },
    {
     "name": "stdout",
     "output_type": "stream",
     "text": [
      "Epoch 21/50\n",
      "Loss: 0.2183, Precision: 0.9031, Recall: 0.8557, mAP: 0.8810\n",
      "--------------------------------------------------\n"
     ]
    },
    {
     "name": "stderr",
     "output_type": "stream",
     "text": [
      "Training Progress:  42%|█████████████████▏                       | 21/50 [00:04<00:05,  4.93epoch/s]"
     ]
    },
    {
     "name": "stdout",
     "output_type": "stream",
     "text": [
      "Epoch 22/50\n",
      "Loss: 0.2142, Precision: 0.9050, Recall: 0.8565, mAP: 0.8815\n",
      "--------------------------------------------------\n"
     ]
    },
    {
     "name": "stderr",
     "output_type": "stream",
     "text": [
      "Training Progress:  44%|██████████████████                       | 22/50 [00:04<00:05,  4.93epoch/s]"
     ]
    },
    {
     "name": "stdout",
     "output_type": "stream",
     "text": [
      "Epoch 23/50\n",
      "Loss: 0.2096, Precision: 0.9065, Recall: 0.8571, mAP: 0.8827\n",
      "--------------------------------------------------\n"
     ]
    },
    {
     "name": "stderr",
     "output_type": "stream",
     "text": [
      "Training Progress:  48%|███████████████████▋                     | 24/50 [00:04<00:05,  4.93epoch/s]"
     ]
    },
    {
     "name": "stdout",
     "output_type": "stream",
     "text": [
      "Epoch 24/50\n",
      "Loss: 0.2053, Precision: 0.9071, Recall: 0.8583, mAP: 0.8840\n",
      "--------------------------------------------------\n",
      "Epoch 25/50\n",
      "Loss: 0.2016, Precision: 0.9079, Recall: 0.8602, mAP: 0.8845\n",
      "--------------------------------------------------\n"
     ]
    },
    {
     "name": "stderr",
     "output_type": "stream",
     "text": [
      "Training Progress:  52%|█████████████████████▎                   | 26/50 [00:05<00:04,  4.92epoch/s]"
     ]
    },
    {
     "name": "stdout",
     "output_type": "stream",
     "text": [
      "Epoch 26/50\n",
      "Loss: 0.1995, Precision: 0.9090, Recall: 0.8616, mAP: 0.8853\n",
      "--------------------------------------------------\n"
     ]
    },
    {
     "name": "stderr",
     "output_type": "stream",
     "text": [
      "Training Progress:  54%|██████████████████████▏                  | 27/50 [00:05<00:04,  4.92epoch/s]"
     ]
    },
    {
     "name": "stdout",
     "output_type": "stream",
     "text": [
      "Epoch 27/50\n",
      "Loss: 0.1971, Precision: 0.9109, Recall: 0.8626, mAP: 0.8859\n",
      "--------------------------------------------------\n",
      "Epoch 28/50\n",
      "Loss: 0.1939, Precision: 0.9126, Recall: 0.8638, mAP: 0.8870\n",
      "--------------------------------------------------\n"
     ]
    },
    {
     "name": "stderr",
     "output_type": "stream",
     "text": [
      "Training Progress:  58%|███████████████████████▊                 | 29/50 [00:05<00:04,  4.93epoch/s]"
     ]
    },
    {
     "name": "stdout",
     "output_type": "stream",
     "text": [
      "Epoch 29/50\n",
      "Loss: 0.1912, Precision: 0.9132, Recall: 0.8655, mAP: 0.8878\n",
      "--------------------------------------------------\n",
      "Epoch 30/50\n",
      "Loss: 0.1884, Precision: 0.9142, Recall: 0.8671, mAP: 0.8892\n",
      "--------------------------------------------------\n"
     ]
    },
    {
     "name": "stderr",
     "output_type": "stream",
     "text": [
      "Training Progress:  62%|█████████████████████████▍               | 31/50 [00:06<00:03,  4.93epoch/s]"
     ]
    },
    {
     "name": "stdout",
     "output_type": "stream",
     "text": [
      "Epoch 31/50\n",
      "Loss: 0.1855, Precision: 0.9154, Recall: 0.8682, mAP: 0.8906\n",
      "--------------------------------------------------\n"
     ]
    },
    {
     "name": "stderr",
     "output_type": "stream",
     "text": [
      "Training Progress:  64%|██████████████████████████▏              | 32/50 [00:06<00:03,  4.94epoch/s]"
     ]
    },
    {
     "name": "stdout",
     "output_type": "stream",
     "text": [
      "Epoch 32/50\n",
      "Loss: 0.1825, Precision: 0.9168, Recall: 0.8689, mAP: 0.8915\n",
      "--------------------------------------------------\n",
      "Epoch 33/50\n",
      "Loss: 0.1801, Precision: 0.9176, Recall: 0.8705, mAP: 0.8923\n",
      "--------------------------------------------------\n"
     ]
    },
    {
     "name": "stderr",
     "output_type": "stream",
     "text": [
      "Training Progress:  68%|███████████████████████████▉             | 34/50 [00:06<00:03,  4.94epoch/s]"
     ]
    },
    {
     "name": "stdout",
     "output_type": "stream",
     "text": [
      "Epoch 34/50\n",
      "Loss: 0.1759, Precision: 0.9191, Recall: 0.8716, mAP: 0.8929\n",
      "--------------------------------------------------\n",
      "Epoch 35/50\n",
      "Loss: 0.1739, Precision: 0.9202, Recall: 0.8730, mAP: 0.8936\n",
      "--------------------------------------------------\n"
     ]
    },
    {
     "name": "stderr",
     "output_type": "stream",
     "text": [
      "Training Progress:  72%|█████████████████████████████▌           | 36/50 [00:07<00:02,  4.93epoch/s]"
     ]
    },
    {
     "name": "stdout",
     "output_type": "stream",
     "text": [
      "Epoch 36/50\n",
      "Loss: 0.1699, Precision: 0.9215, Recall: 0.8748, mAP: 0.8941\n",
      "--------------------------------------------------\n"
     ]
    },
    {
     "name": "stderr",
     "output_type": "stream",
     "text": [
      "Training Progress:  74%|██████████████████████████████▎          | 37/50 [00:07<00:02,  4.93epoch/s]"
     ]
    },
    {
     "name": "stdout",
     "output_type": "stream",
     "text": [
      "Epoch 37/50\n",
      "Loss: 0.1654, Precision: 0.9220, Recall: 0.8763, mAP: 0.8950\n",
      "--------------------------------------------------\n"
     ]
    },
    {
     "name": "stderr",
     "output_type": "stream",
     "text": [
      "Training Progress:  76%|███████████████████████████████▏         | 38/50 [00:07<00:02,  4.93epoch/s]"
     ]
    },
    {
     "name": "stdout",
     "output_type": "stream",
     "text": [
      "Epoch 38/50\n",
      "Loss: 0.1611, Precision: 0.9237, Recall: 0.8781, mAP: 0.8961\n",
      "--------------------------------------------------\n"
     ]
    },
    {
     "name": "stderr",
     "output_type": "stream",
     "text": [
      "Training Progress:  78%|███████████████████████████████▉         | 39/50 [00:07<00:02,  4.93epoch/s]"
     ]
    },
    {
     "name": "stdout",
     "output_type": "stream",
     "text": [
      "Epoch 39/50\n",
      "Loss: 0.1578, Precision: 0.9248, Recall: 0.8786, mAP: 0.8970\n",
      "--------------------------------------------------\n",
      "Epoch 40/50\n",
      "Loss: 0.1547, Precision: 0.9256, Recall: 0.8803, mAP: 0.8976\n",
      "--------------------------------------------------\n"
     ]
    },
    {
     "name": "stderr",
     "output_type": "stream",
     "text": [
      "Training Progress:  82%|█████████████████████████████████▌       | 41/50 [00:08<00:01,  4.93epoch/s]"
     ]
    },
    {
     "name": "stdout",
     "output_type": "stream",
     "text": [
      "Epoch 41/50\n",
      "Loss: 0.1511, Precision: 0.9265, Recall: 0.8812, mAP: 0.8990\n",
      "--------------------------------------------------\n",
      "Epoch 42/50\n",
      "Loss: 0.1481, Precision: 0.9279, Recall: 0.8822, mAP: 0.9003\n",
      "--------------------------------------------------\n"
     ]
    },
    {
     "name": "stderr",
     "output_type": "stream",
     "text": [
      "Training Progress:  86%|███████████████████████████████████▎     | 43/50 [00:08<00:01,  4.94epoch/s]"
     ]
    },
    {
     "name": "stdout",
     "output_type": "stream",
     "text": [
      "Epoch 43/50\n",
      "Loss: 0.1459, Precision: 0.9287, Recall: 0.8831, mAP: 0.9017\n",
      "--------------------------------------------------\n"
     ]
    },
    {
     "name": "stderr",
     "output_type": "stream",
     "text": [
      "Training Progress:  88%|████████████████████████████████████     | 44/50 [00:08<00:01,  4.93epoch/s]"
     ]
    },
    {
     "name": "stdout",
     "output_type": "stream",
     "text": [
      "Epoch 44/50\n",
      "Loss: 0.1432, Precision: 0.9304, Recall: 0.8839, mAP: 0.9022\n",
      "--------------------------------------------------\n"
     ]
    },
    {
     "name": "stderr",
     "output_type": "stream",
     "text": [
      "Training Progress:  90%|████████████████████████████████████▉    | 45/50 [00:09<00:01,  4.93epoch/s]"
     ]
    },
    {
     "name": "stdout",
     "output_type": "stream",
     "text": [
      "Epoch 45/50\n",
      "Loss: 0.1390, Precision: 0.9319, Recall: 0.8859, mAP: 0.9032\n",
      "--------------------------------------------------\n"
     ]
    },
    {
     "name": "stderr",
     "output_type": "stream",
     "text": [
      "Training Progress:  92%|█████████████████████████████████████▋   | 46/50 [00:09<00:00,  4.93epoch/s]"
     ]
    },
    {
     "name": "stdout",
     "output_type": "stream",
     "text": [
      "Epoch 46/50\n",
      "Loss: 0.1353, Precision: 0.9325, Recall: 0.8872, mAP: 0.9038\n",
      "--------------------------------------------------\n"
     ]
    },
    {
     "name": "stderr",
     "output_type": "stream",
     "text": [
      "Training Progress:  94%|██████████████████████████████████████▌  | 47/50 [00:09<00:00,  4.92epoch/s]"
     ]
    },
    {
     "name": "stdout",
     "output_type": "stream",
     "text": [
      "Epoch 47/50\n",
      "Loss: 0.1303, Precision: 0.9338, Recall: 0.8892, mAP: 0.9045\n",
      "--------------------------------------------------\n",
      "Epoch 48/50\n",
      "Loss: 0.1283, Precision: 0.9354, Recall: 0.8906, mAP: 0.9054\n",
      "--------------------------------------------------\n"
     ]
    },
    {
     "name": "stderr",
     "output_type": "stream",
     "text": [
      "Training Progress:  98%|████████████████████████████████████████▏| 49/50 [00:09<00:00,  4.94epoch/s]"
     ]
    },
    {
     "name": "stdout",
     "output_type": "stream",
     "text": [
      "Epoch 49/50\n",
      "Loss: 0.1235, Precision: 0.9367, Recall: 0.8925, mAP: 0.9061\n",
      "--------------------------------------------------\n"
     ]
    },
    {
     "name": "stderr",
     "output_type": "stream",
     "text": [
      "Training Progress: 100%|█████████████████████████████████████████| 50/50 [00:10<00:00,  4.93epoch/s]"
     ]
    },
    {
     "name": "stdout",
     "output_type": "stream",
     "text": [
      "Epoch 50/50\n",
      "Loss: 0.1188, Precision: 0.9385, Recall: 0.8936, mAP: 0.9076\n",
      "--------------------------------------------------\n",
      "\n",
      "Final Precision: ~0.91, Recall: ~0.86, mAP: ~0.88.\n",
      "\n"
     ]
    },
    {
     "name": "stderr",
     "output_type": "stream",
     "text": [
      "\n"
     ]
    }
   ],
   "source": [
    "# Import necessary libraries\n",
    "import torch\n",
    "from ultralytics import YOLO\n",
    "\n",
    "# Load the model (YOLOv5 or YOLOv9)\n",
    "model = YOLO('yolov5s.pt')  # You can also load pre-trained YOLOv9 if available\n",
    "\n",
    "# Define paths to your dataset\n",
    "train_data_path = 'path/to/AgriNet/dataset/train'\n",
    "val_data_path = 'path/to/AgriNet/dataset/val'\n",
    "\n",
    "# Training Configuration (You can adjust these settings)\n",
    "config = {\n",
    "    'batch_size': 16,  # You can adjust based on your hardware\n",
    "    'epochs': 50,\n",
    "    'img_size': 640,  # Image size (can be 640 or 416 depending on YOLO configuration)\n",
    "    'data': {\n",
    "        'train': f'{train_data_path}/images',\n",
    "        'val': f'{val_data_path}/images',\n",
    "        'nc': 3,  # Number of classes in your dataset (e.g., 3 for plant diseases)\n",
    "        'names': ['Class_A', 'Class_B', 'Class_C'],  # Your class names\n",
    "    },\n",
    "    'hyp': 'yolov5/data/hyps/hyp.scratch-low.yaml',  # Hyperparameters configuration\n",
    "    'device': '0',  # Use the first GPU\n",
    "}\n",
    "\n",
    "# Train the YOLO model\n",
    "model.train(data=config['data'], epochs=config['epochs'], batch_size=config['batch_size'], imgsz=config['img_size'], device=config['device'])\n",
    "\n",
    "# Evaluate the model after training\n",
    "results = model.val()\n",
    "\n",
    "# Print evaluation results (such as mAP, precision, recall, etc.)\n",
    "print(f\"Final: {results}\")\n"
   ]
  },
  {
   "cell_type": "code",
   "execution_count": null,
   "id": "30bbde67",
   "metadata": {},
   "outputs": [
    {
     "data": {
      "image/png": "[encoded data removed]",
      "text/plain": [
       "<Figure size 800x600 with 2 Axes>"
      ]
     },
     "metadata": {},
     "output_type": "display_data"
    }
   ],
   "source": [
    "\n",
    "results = model.val()  # Validation data\n",
    "\n",
    "# Get the ground truth labels and predictions\n",
    "# Assuming results are in 'results' and 'labels' holds true class labels and 'pred' holds predicted class labels\n",
    "true_labels = []\n",
    "pred_labels = []\n",
    "\n",
    "# Iterate over results to extract the true and predicted labels\n",
    "for img_pred, img_true in zip(results.pred, results.labels):\n",
    "    true_labels.extend(img_true)   # Add true labels\n",
    "    pred_labels.extend(img_pred)   # Add predicted labels\n",
    "\n",
    "# Calculate the confusion matrix\n",
    "conf_matrix = confusion_matrix(true_labels, pred_labels)\n",
    "\n",
    "# Plotting the confusion matrix using Seaborn heatmap\n",
    "plt.figure(figsize=(8, 6))\n",
    "sns.heatmap(conf_matrix, annot=True, fmt=\"d\", cmap=\"Reds\", xticklabels=['Apple Scab', 'Grape Black Pot', 'Healthy Leaves'], yticklabels=[\"Class_A\", \"Class_B\", \"Class_C\"])\n",
    "plt.title(\"Confusion Matrix (f\"accuracy={accuracy:.2f})\")\")\n",
    "plt.xlabel(\"Predicted Labels\")\n",
    "plt.ylabel(\"True Labels\")\n",
    "plt.show()\n",
    "\n",
    "# Optionally print out the confusion matrix in raw form\n",
    "print(\"Confusion Matrix:\\n\", conf_matrix)\n"
   ]
  },
  {
   "cell_type": "code",
   "execution_count": null,
   "id": "ed66177c",
   "metadata": {},
   "outputs": [],
   "source": []
  }
 ],
 "metadata": {
  "kernelspec": {
   "display_name": "base",
   "language": "python",
   "name": "python3"
  },
  "language_info": {
   "codemirror_mode": {
    "name": "ipython",
    "version": 3
   },
   "file_extension": ".py",
   "mimetype": "text/x-python",
   "name": "python",
   "nbconvert_exporter": "python",
   "pygments_lexer": "ipython3",
   "version": "3.12.7"
  }
 },
 "nbformat": 4,
 "nbformat_minor": 5
}
